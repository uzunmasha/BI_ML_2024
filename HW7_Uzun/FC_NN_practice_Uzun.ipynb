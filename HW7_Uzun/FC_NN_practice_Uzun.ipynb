{
  "cells": [
    {
      "cell_type": "markdown",
      "metadata": {
        "id": "-pSGPQS8Btmc"
      },
      "source": [
        "Всем привет! Сегодня вы впервые попробуете написать свою собственную нейронную сеть и попробовать ее обучить. Мы будем работать с картинками, но пока что не совсем тем способом, которым лучше всего это делать, но должно получиться неплохо.\n",
        "\n",
        "Будем работать с [датасетом](https://github.com/rois-codh/kmnist) `Kuzushiji-MNIST` (`KMNIST`). Это рукописные буквы, изображения имеют размер (28, 28, 1) и разделены на 10 классов, по ссылке можно прочитать подробнее."
      ]
    },
    {
      "cell_type": "code",
      "execution_count": null,
      "metadata": {
        "id": "75HVAP_RFU7r"
      },
      "outputs": [],
      "source": [
        "import numpy as np\n",
        "import torch\n",
        "import matplotlib.pyplot as plt\n",
        "from IPython.display import clear_output"
      ]
    },
    {
      "cell_type": "markdown",
      "metadata": {
        "id": "46iQ8ixtEruP"
      },
      "source": [
        "## Загрузка данных"
      ]
    },
    {
      "cell_type": "markdown",
      "metadata": {
        "id": "R6h1jVreJlV-"
      },
      "source": [
        "Сейчас мы будем использовать встроенные данные, но в реальности приходится писать свой класс для датасета (Dataset), у которого реализовывать несколько обязательных методов (напр, `__getitem__`), но это обсудим уже потом."
      ]
    },
    {
      "cell_type": "code",
      "execution_count": null,
      "metadata": {
        "id": "s9L9Z02o_1bK"
      },
      "outputs": [],
      "source": [
        "import torchvision\n",
        "from torchvision.datasets import KMNIST\n",
        "\n",
        "\n",
        "# Превращает картинки в тензоры\n",
        "transform = torchvision.transforms.Compose(\n",
        "    [torchvision.transforms.ToTensor()])\n",
        "\n",
        "# Загрузим данные (в переменных лежат объекты типа `Dataset`)\n",
        "# В аргумент `transform` мы передаем необходимые трансформации (ToTensor)\n",
        "trainset = KMNIST(root=\"./KMNIST\", train=True, download=True, transform=transform)\n",
        "testset = KMNIST(root=\"./KMNIST\", train=False, download=True, transform=transform)\n",
        "\n",
        "clear_output()"
      ]
    },
    {
      "cell_type": "markdown",
      "metadata": {
        "id": "V83E2vDrO9CC"
      },
      "source": [
        "Определим даталоадеры, они нужны, чтобы реализовывать стохастический градиентный спуск (то есть мы не хотим считывать в оперативную память все картинки сразу, а делать это батчами)."
      ]
    },
    {
      "cell_type": "code",
      "execution_count": null,
      "metadata": {
        "id": "oqC8XO8pO8Px"
      },
      "outputs": [],
      "source": [
        "from torch.utils.data import DataLoader\n",
        "\n",
        "\n",
        "# Можно оставить таким\n",
        "batch_size = 256\n",
        "\n",
        "trainloader = DataLoader(trainset, batch_size=batch_size, shuffle=True, num_workers=2)\n",
        "testloader = DataLoader(testset, batch_size=batch_size, shuffle=False, num_workers=2)"
      ]
    },
    {
      "cell_type": "markdown",
      "metadata": {
        "id": "-Ntp5sLoPyGx"
      },
      "source": [
        "Подумайте, как может влиять на скорость обучения параметр `batch_size`, почему вы так считаете?\n",
        "\n",
        "**Ответ:** Чем больше размер батча, тем выше вычислительная эффективность и лучше устойчивость обучения. Но при этом используется больше памяти и вероятность переобучения становится выше."
      ]
    },
    {
      "cell_type": "markdown",
      "metadata": {
        "id": "t2vmM4KaHvrs"
      },
      "source": [
        "Посмотрим на какую-нибудь картинку:"
      ]
    },
    {
      "cell_type": "code",
      "execution_count": null,
      "metadata": {
        "colab": {
          "base_uri": "https://localhost:8080/",
          "height": 430
        },
        "id": "N-b-kFCYAoOP",
        "outputId": "e78d3c28-db2a-4669-c807-4cf8cef89f93"
      },
      "outputs": [
        {
          "data": {
            "image/png": "[encoded data removed]",
            "text/plain": [
              "<Figure size 640x480 with 1 Axes>"
            ]
          },
          "metadata": {},
          "output_type": "display_data"
        }
      ],
      "source": [
        "plt.imshow(trainset[0][0].view(28, 28).numpy(), cmap=\"gray\")\n",
        "plt.axis(\"off\")\n",
        "plt.title(f\"Class is {trainset[0][1]}\", fontsize=16);"
      ]
    },
    {
      "cell_type": "markdown",
      "metadata": {
        "id": "8_MSY231Hzz9"
      },
      "source": [
        "### Задание 1. Смотрим на картинки\n",
        "\n",
        "**2** балла\n",
        "\n",
        "Нарисуйте на одном графике изображения всех 10 классов:"
      ]
    },
    {
      "cell_type": "markdown",
      "metadata": {
        "id": "j0tNdHM5JS6l"
      },
      "source": [
        "⣿⣿⣿⣿⣿⣿⠿⢋⣥⣴⣶⣶⣶⣬⣙⠻⠟⣋⣭⣭⣭⣭⡙⠻⣿⣿⣿⣿⣿\n",
        "⣿⣿⣿⣿⡿⢋⣴⣿⣿⠿⢟⣛⣛⣛⠿⢷⡹⣿⣿⣿⣿⣿⣿⣆⠹⣿⣿⣿⣿\n",
        "⣿⣿⣿⡿⢁⣾⣿⣿⣴⣿⣿⣿⣿⠿⠿⠷⠥⠱⣶⣶⣶⣶⡶⠮⠤⣌⡙⢿⣿\n",
        "⣿⡿⢛⡁⣾⣿⣿⣿⡿⢟⡫⢕⣪⡭⠥⢭⣭⣉⡂⣉⡒⣤⡭⡉⠩⣥⣰⠂⠹\n",
        "⡟⢠⣿⣱⣿⣿⣿⣏⣛⢲⣾⣿⠃⠄⠐⠈⣿⣿⣿⣿⣿⣿⠄⠁⠃⢸⣿⣿⡧\n",
        "⢠⣿⣿⣿⣿⣿⣿⣿⣿⣇⣊⠙⠳⠤⠤⠾⣟⠛⠍⣹⣛⣛⣢⣀⣠⣛⡯⢉⣰\n",
        "⣿⣿⣿⣿⣿⣿⣿⣿⣿⣿⣿⣿⣷⡶⠶⢒⣠⣼⣿⣿⣛⠻⠛⢛⣛⠉⣴⣿⣿\n",
        "⣿⣿⣿⣿⣿⣿⣿⡿⢛⡛⢿⣿⣿⣶⣿⣿⣿⣿⣿⣿⣿⣿⣿⣿⣿⣷⡈⢿⣿\n",
        "⣿⣿⣿⣿⣿⣿⣿⠸⣿⡻⢷⣍⣛⠻⠿⠿⣿⣿⣿⣿⣿⣿⣿⣿⣿⠿⢇⡘⣿\n",
        "⣿⣿⣿⣿⣿⣿⣿⣷⣝⠻⠶⣬⣍⣛⣛⠓⠶⠶⠶⠤⠬⠭⠤⠶⠶⠞⠛⣡⣿\n",
        "⢿⣿⣿⣿⣿⣿⣿⣿⣿⣿⣷⣶⣬⣭⣍⣙⣛⣛⣛⠛⠛⠛⠿⠿⠿⠛⣠⣿⣿\n",
        "⣦⣈⠉⢛⠻⠿⠿⢿⣿⣿⣿⣿⣿⣿⣿⣿⣿⣿⣿⡿⠿⠛⣁⣴⣾⣿⣿⣿⣿\n",
        "⣿⣿⣿⣶⣮⣭⣁⣒⣒⣒⠂⠠⠬⠭⠭⠭⢀⣀⣠⣄⡘⠿⣿⣿⣿⣿⣿⣿⣿\n",
        "⣿⣿⣿⣿⣿⣿⣿⣿⣿⣿⣿⣿⣿⣿⣿⣿⣿⣿⣿⣿⣿⣦⡈⢿⣿⣿⣿⣿⣿\n",
        "\n",
        "\n",
        "\n"
      ]
    },
    {
      "cell_type": "code",
      "execution_count": null,
      "metadata": {
        "colab": {
          "base_uri": "https://localhost:8080/",
          "height": 368
        },
        "id": "dVbUifZKpbK0",
        "outputId": "5a65c156-3685-4385-f022-dd4cc147d9a4"
      },
      "outputs": [
        {
          "data": {
            "image/png": "[encoded data removed]",
            "text/plain": [
              "<Figure size 800x400 with 10 Axes>"
            ]
          },
          "metadata": {},
          "output_type": "display_data"
        }
      ],
      "source": [
        "import matplotlib.pyplot as plt\n",
        "\n",
        "fig, axs = plt.subplots(2, 5, figsize=(8, 4))\n",
        "fig.suptitle('Примеры изображений для каждого класса', fontsize=16)\n",
        "\n",
        "for i in range(10):\n",
        "    idx = next(iter(idx for idx, label in enumerate(trainset.targets) if label == i))\n",
        "    image, label = trainset[idx]\n",
        "    axs[i // 5, i % 5].imshow(image.squeeze(), cmap='gray')\n",
        "    axs[i // 5, i % 5].set_title(f'Class {label}')\n",
        "    axs[i // 5, i % 5].axis('off')\n",
        "\n",
        "plt.show()\n"
      ]
    },
    {
      "cell_type": "markdown",
      "source": [
        "<font size=3 color='purple'><b>Гут 2/2 </font>"
      ],
      "metadata": {
        "id": "DrUbTI9RYCn0"
      }
    },
    {
      "cell_type": "markdown",
      "metadata": {
        "id": "dLCfnFW-JtGx"
      },
      "source": [
        "### Задание 2. Строим свой первый MLP\n",
        "\n",
        "**4** балла\n",
        "\n",
        "MLP (multilayer perceptron) или нейронная сеть из полносвязных (линейных) слоев, это мы уже знаем.\n",
        "\n",
        "Опишите структуру сети: 3 полносвязных слоя + функции активации на ваш выбор. **Подумайте** про активацию после последнего слоя!\n",
        "\n",
        "Сеть на выходе 1 слоя должна иметь 256 признаков, на выходе из 2 128 признаков, на выходе из последнего столько, сколько у вас классов.\n",
        "\n",
        "https://pytorch.org/docs/stable/nn.html?highlight=activation#non-linear-activations-weighted-sum-nonlinearity"
      ]
    },
    {
      "cell_type": "code",
      "execution_count": null,
      "metadata": {
        "id": "dhYBvQIXJdSz"
      },
      "outputs": [],
      "source": [
        "import torch.nn as nn\n",
        "\n",
        "class FCNet(nn.Module):\n",
        "    def __init__(self):\n",
        "        super().__init__() #  это надо помнить!\n",
        "        self.fc1 = nn.Linear(in_features=28*28, out_features=256)\n",
        "        self.fc2 = nn.Linear(in_features=256, out_features=128)\n",
        "        self.fc3 = nn.Linear(in_features=128, out_features=10)  # Последний слой, количество признаков равно количеству классов\n",
        "        self.activation = nn.ReLU()  # Функция активации ReLU\n",
        "\n",
        "\n",
        "    def forward(self, x):  # Forward вызывается внутри метода __call__ родительского класса\n",
        "        x = x.view(-1, 28*28)\n",
        "        x = self.activation(self.fc1(x))\n",
        "        x = self.activation(self.fc2(x))\n",
        "        logits = self.fc3(x)\n",
        "\n",
        "        # if self.last_activation is not None:\n",
        "        #     logits = self.last_activation(logits) # last_activation = None\n",
        "\n",
        "        return logits"
      ]
    },
    {
      "cell_type": "markdown",
      "metadata": {
        "id": "uI0R77EQNKef"
      },
      "source": [
        "Сколько обучаемых параметров у вашей модели (весов и смещений)?\n",
        "\n",
        "**Ответ:**"
      ]
    },
    {
      "cell_type": "code",
      "execution_count": null,
      "metadata": {
        "colab": {
          "base_uri": "https://localhost:8080/"
        },
        "id": "MvGiuoykrzzJ",
        "outputId": "a8d02e36-76e2-4009-ea56-4946a1b9d680"
      },
      "outputs": [
        {
          "name": "stdout",
          "output_type": "stream",
          "text": [
            "weights = 200704 32768 1280\n",
            "bias = 394\n",
            "all parameters = 235146\n"
          ]
        }
      ],
      "source": [
        "fc1 = 28*28*256\n",
        "fc2 =  128 * 256\n",
        "fc3 = 10 * 128\n",
        "print('weights =', fc1, fc2, fc3)\n",
        "bias = 256+128+10\n",
        "print('bias =', bias)\n",
        "summ_all = fc1 + fc2 + fc3 + bias\n",
        "print('all parameters =', summ_all)"
      ]
    },
    {
      "cell_type": "markdown",
      "source": [
        "<font size=3 color='purple'><b>Гут 4/4</font>"
      ],
      "metadata": {
        "id": "3KIsMnlyYLgz"
      }
    },
    {
      "cell_type": "markdown",
      "metadata": {
        "id": "iwGllji2M4lp"
      },
      "source": [
        "### Задание 3. Напишите код для обучения модели\n",
        "\n",
        "**5** баллов\n",
        "\n",
        "Можно (и нужно) подглядывать в код семинара по пайторчу. Вам нужно создать модель, определить функцию потерь и оптимизатор (начнем с `SGD`). Дальше нужно обучать модель, при помощи тренировочного `Dataloader'a` и считать лосс на тренировочном и тестовом `Dataloader'ах`."
      ]
    },
    {
      "cell_type": "markdown",
      "metadata": {
        "id": "Grv9xcybRfCX"
      },
      "source": [
        "Напишем функцию для рассчета `accuracy`:"
      ]
    },
    {
      "cell_type": "code",
      "execution_count": null,
      "metadata": {
        "id": "9D2QPFe5JdVc"
      },
      "outputs": [],
      "source": [
        "def get_accuracy(model, dataloader):\n",
        "    \"\"\"\n",
        "    model - обученная нейронная сеть\n",
        "    dataloader - даталоадер, на котором вы хотите посчитать accuracy\n",
        "    \"\"\"\n",
        "    correct = 0\n",
        "    total = 0\n",
        "    with torch.no_grad(): # Тензоры внутри этого блока будут иметь requires_grad=False\n",
        "        for images, labels in dataloader:\n",
        "            outputs = model(images)\n",
        "            _, predicted = torch.max(outputs.data, 1)\n",
        "            total += labels.size(0)\n",
        "            correct += (predicted == labels).sum().item()\n",
        "    accuracy = correct / total\n",
        "\n",
        "    return accuracy"
      ]
    },
    {
      "cell_type": "markdown",
      "metadata": {
        "id": "D3EmoWJyTBkE"
      },
      "source": [
        "#### Основной цикл обучения\n",
        "\n",
        "Этот код можно (и зачастую нужно) выносить в отдельную функцию, но пока что можете это не делать, все по желанию)"
      ]
    },
    {
      "cell_type": "code",
      "execution_count": null,
      "metadata": {
        "id": "uIZKSOdgUi3e"
      },
      "outputs": [],
      "source": [
        "# Создадим объект модели\n",
        "fc_net = FCNet()\n",
        "# Определим функцию потерь\n",
        "loss_function = nn.CrossEntropyLoss()\n",
        "# Создадим оптимизатор для нашей сети\n",
        "lr = 0.001 # скорость обучения\n",
        "optimizer = torch.optim.Adam(fc_net.parameters(), lr=3e-4)"
      ]
    },
    {
      "cell_type": "markdown",
      "metadata": {
        "id": "uKYzXFqoX_fd"
      },
      "source": [
        "Напишите цикл обучения. Для начала хватит 10 эпох. Какое значение `accuracy` на тестовой выборке удалось получить?"
      ]
    },
    {
      "cell_type": "code",
      "execution_count": null,
      "metadata": {
        "colab": {
          "base_uri": "https://localhost:8080/"
        },
        "id": "zDtYMadLp2LP",
        "outputId": "fd1ea460-41f9-415a-ec3d-679bab13045e"
      },
      "outputs": [
        {
          "name": "stderr",
          "output_type": "stream",
          "text": [
            "/usr/lib/python3.10/multiprocessing/popen_fork.py:66: RuntimeWarning: os.fork() was called. os.fork() is incompatible with multithreaded code, and JAX is multithreaded, so this will likely lead to a deadlock.\n",
            "  self.pid = os.fork()\n",
            "/usr/lib/python3.10/multiprocessing/popen_fork.py:66: RuntimeWarning: os.fork() was called. os.fork() is incompatible with multithreaded code, and JAX is multithreaded, so this will likely lead to a deadlock.\n",
            "  self.pid = os.fork()\n"
          ]
        },
        {
          "name": "stdout",
          "output_type": "stream",
          "text": [
            "Epoch=1 loss=0.8997\n",
            "Epoch=2 loss=0.4443\n",
            "Epoch=3 loss=0.3448\n",
            "Epoch=4 loss=0.2843\n",
            "Epoch=5 loss=0.2413\n",
            "Epoch=6 loss=0.2079\n",
            "Epoch=7 loss=0.1809\n",
            "Epoch=8 loss=0.1594\n",
            "Epoch=9 loss=0.1393\n",
            "Epoch=10 loss=0.1234\n"
          ]
        }
      ],
      "source": [
        "n_epochs = 10\n",
        "loss_history = []\n",
        "for epoch in range(n_epochs):\n",
        "    epoch_loss = 0\n",
        "    for images, labels in trainloader: # Получаем батч тренировочных картинок\n",
        "        optimizer.zero_grad() # чтобы не было как в лог регрессии, когда мы не обнуляли градиенты\n",
        "        outputs = fc_net(images) # делаем предсказания\n",
        "        loss = loss_function(outputs, labels) # считаем лосс\n",
        "        loss.backward() # считаем градиенты\n",
        "        optimizer.step() # делаем шаг градиентного спуска\n",
        "\n",
        "        epoch_loss += loss.item()\n",
        "\n",
        "    loss_history.append(epoch_loss/len(trainloader))\n",
        "\n",
        "    print(f\"Epoch={epoch+1} loss={loss_history[epoch]:.4f}\")"
      ]
    },
    {
      "cell_type": "code",
      "execution_count": null,
      "metadata": {
        "colab": {
          "base_uri": "https://localhost:8080/"
        },
        "id": "2cB5LRbrS3BN",
        "outputId": "af956dc8-67cb-4f07-a7a7-aad13e850559"
      },
      "outputs": [
        {
          "data": {
            "text/plain": [
              "0.8746"
            ]
          },
          "execution_count": 11,
          "metadata": {},
          "output_type": "execute_result"
        }
      ],
      "source": [
        "get_accuracy(fc_net, testloader)"
      ]
    },
    {
      "cell_type": "markdown",
      "source": [
        "<font size=3 color='purple'><b>Советую при работе с сетями всегда отрисовывать на графике эволюцию лосса и метрик. Это очень наглядно. Когда эпох много, текст не разобрать. И еще, на будущее цикл обучения удобно все же обернуть в функцию (в идеале в класс), в которую передается модель, оптимизатор и прочие параметры. Обучение может быть очень громоздким кодом и чтобы его не копипастить, лучше выносить в функцию. 5/5</font>"
      ],
      "metadata": {
        "id": "zz07qX-3YPPV"
      }
    },
    {
      "cell_type": "markdown",
      "metadata": {
        "id": "4HTJzBM8Yk1R"
      },
      "source": [
        "### Задание 4. Изучение влияния нормализации\n",
        "\n",
        "**3** балла\n",
        "\n",
        "Вы могли заметить, что мы забыли провести нормализацию наших данных, а для нейронных сетей это может быть очень критично.\n",
        "\n",
        "Нормализуйте данные.\n",
        "\n",
        "* Подсчитайте среднее значение и стандартное отклонение интенсивности пикселей для всех тренировочных данных\n",
        "* Нормализуйте данные с использованием этих параметров (используйте трансформацию `Normalize`)\n",
        "\n",
        "\n",
        "Оцените влияние нормировки данных."
      ]
    },
    {
      "cell_type": "code",
      "execution_count": null,
      "metadata": {
        "colab": {
          "base_uri": "https://localhost:8080/"
        },
        "id": "FHlDaYWGR6YA",
        "outputId": "95c8c1f8-1809-4be7-dde8-32d0df29b6e3"
      },
      "outputs": [
        {
          "name": "stdout",
          "output_type": "stream",
          "text": [
            "tensor(0.1918) tensor(0.3483)\n"
          ]
        }
      ],
      "source": [
        "mean = trainset.data.float().mean() / 255 ## calculate mean\n",
        "std = train_std = trainset.data.float().std() / 255 ## calculate std\n",
        "print(mean, std)\n",
        "\n",
        "transform_with_norm = torchvision.transforms.Compose([\n",
        "                torchvision.transforms.ToTensor(),\n",
        "                torchvision.transforms.Normalize(mean, std)\n",
        "            ])\n",
        "\n",
        "trainset.transform = transform_with_norm\n",
        "testset.transform = transform_with_norm"
      ]
    },
    {
      "cell_type": "markdown",
      "source": [
        "<font size=3 color='purple'><b>Советую посмотреть как считать среднее и стандартное отклонение по батчам постепенно. Представь, что у тебя очень большие данные. Тогда такой метод не прокатит из-за перегрузки памяти</font>"
      ],
      "metadata": {
        "id": "iexxVfoKYYFi"
      }
    },
    {
      "cell_type": "code",
      "execution_count": null,
      "metadata": {
        "id": "Qj93J3X_R6aa"
      },
      "outputs": [],
      "source": [
        "fc_net = FCNet()\n",
        "loss_function = nn.CrossEntropyLoss()\n",
        "lr = 0.001\n",
        "optimizer = torch.optim.Adam(fc_net.parameters(), lr=3e-4)"
      ]
    },
    {
      "cell_type": "code",
      "execution_count": null,
      "metadata": {
        "colab": {
          "base_uri": "https://localhost:8080/"
        },
        "id": "VWZtYBCvAoWQ",
        "outputId": "4859994b-eea7-4028-d8ee-a7e1add4eb4a"
      },
      "outputs": [
        {
          "name": "stdout",
          "output_type": "stream",
          "text": [
            "Epoch=1 loss=0.6845\n",
            "Epoch=2 loss=0.3045\n",
            "Epoch=3 loss=0.2260\n",
            "Epoch=4 loss=0.1760\n",
            "Epoch=5 loss=0.1402\n",
            "Epoch=6 loss=0.1142\n",
            "Epoch=7 loss=0.0941\n",
            "Epoch=8 loss=0.0773\n",
            "Epoch=9 loss=0.0636\n",
            "Epoch=10 loss=0.0513\n"
          ]
        }
      ],
      "source": [
        "n_epochs = 10\n",
        "loss_history = []\n",
        "\n",
        "## YOUR CODE HERE\n",
        "for epoch in range(n_epochs):\n",
        "    epoch_loss = 0\n",
        "    for images, labels in trainloader: # Получаем батч тренировочных картинок\n",
        "        optimizer.zero_grad() # чтобы не было как в лог регрессии, когда мы не обнуляли градиенты\n",
        "        outputs = fc_net(images) # делаем предсказания\n",
        "        loss = loss_function(outputs, labels) # считаем лосс\n",
        "        loss.backward() # считаем градиенты\n",
        "        optimizer.step() # делаем шаг градиентного спуска\n",
        "\n",
        "        epoch_loss += loss.item()\n",
        "\n",
        "    loss_history.append(epoch_loss/len(trainloader))\n",
        "\n",
        "    print(f\"Epoch={epoch+1} loss={loss_history[epoch]:.4f}\")"
      ]
    },
    {
      "cell_type": "code",
      "execution_count": null,
      "metadata": {
        "colab": {
          "base_uri": "https://localhost:8080/"
        },
        "id": "Gfbv9OIAAoYT",
        "outputId": "aae04542-a5ec-4d82-92a4-c12b182869b1"
      },
      "outputs": [
        {
          "data": {
            "text/plain": [
              "0.8999"
            ]
          },
          "execution_count": 15,
          "metadata": {},
          "output_type": "execute_result"
        }
      ],
      "source": [
        "get_accuracy(fc_net, testloader)"
      ]
    },
    {
      "cell_type": "markdown",
      "metadata": {
        "id": "RcIJvhWkcjlh"
      },
      "source": [
        "Как изменилась `accuracy` после нормализации?"
      ]
    },
    {
      "cell_type": "markdown",
      "metadata": {
        "id": "kbR0-yZb4nA6"
      },
      "source": [
        "Стало получше немного"
      ]
    },
    {
      "cell_type": "markdown",
      "source": [
        "<font size=3 color='purple'><b>3/3</font>"
      ],
      "metadata": {
        "id": "vvJJ4hYFYmF3"
      }
    },
    {
      "cell_type": "markdown",
      "metadata": {
        "id": "atcfzu4acxP2"
      },
      "source": [
        "### Задание 5. Изучение влияния функции активации\n",
        "\n",
        "**3** балла\n",
        "\n",
        "Исследуйте влияние функций активации на скорость обучения и точность предсказаний модели.\n",
        "\n",
        "Используйте три функции:\n",
        "\n",
        "* [Sigmoid](https://pytorch.org/docs/stable/nn.functional.html#sigmoid)\n",
        "* [GELU](https://pytorch.org/docs/stable/nn.functional.html#gelu)\n",
        "* [Tanh](https://pytorch.org/docs/stable/generated/torch.nn.Tanh.html#torch.nn.Tanh)"
      ]
    },
    {
      "cell_type": "code",
      "execution_count": null,
      "metadata": {
        "colab": {
          "base_uri": "https://localhost:8080/"
        },
        "id": "e5aAubvfURnG",
        "outputId": "5dd084fa-30c6-41c0-a6f6-7ce4009e9814"
      },
      "outputs": [
        {
          "name": "stdout",
          "output_type": "stream",
          "text": [
            "Epoch=1 loss=1.5513\n",
            "Epoch=2 loss=0.7511\n",
            "Epoch=3 loss=0.5468\n",
            "Epoch=4 loss=0.4444\n",
            "Epoch=5 loss=0.3750\n",
            "Epoch=6 loss=0.3213\n",
            "Epoch=7 loss=0.2785\n",
            "Epoch=8 loss=0.2437\n",
            "Epoch=9 loss=0.2146\n",
            "Epoch=10 loss=0.1890\n",
            "Accuracy for Sigmoid: 0.8518\n",
            "Epoch=1 loss=0.7648\n",
            "Epoch=2 loss=0.3840\n",
            "Epoch=3 loss=0.2624\n",
            "Epoch=4 loss=0.1888\n",
            "Epoch=5 loss=0.1409\n",
            "Epoch=6 loss=0.1055\n",
            "Epoch=7 loss=0.0798\n",
            "Epoch=8 loss=0.0596\n",
            "Epoch=9 loss=0.0439\n",
            "Epoch=10 loss=0.0325\n",
            "Accuracy for Tanh: 0.8954\n",
            "Epoch=1 loss=0.6557\n",
            "Epoch=2 loss=0.2833\n",
            "Epoch=3 loss=0.2070\n",
            "Epoch=4 loss=0.1593\n",
            "Epoch=5 loss=0.1233\n",
            "Epoch=6 loss=0.0984\n",
            "Epoch=7 loss=0.0789\n",
            "Epoch=8 loss=0.0631\n",
            "Epoch=9 loss=0.0505\n",
            "Epoch=10 loss=0.0400\n",
            "Accuracy for GELU: 0.9040\n"
          ]
        }
      ],
      "source": [
        "def train_and_evaluate_model(activation_func):\n",
        "    fc_net = FCNet()\n",
        "    fc_net.activation = activation_func\n",
        "    loss_function = nn.CrossEntropyLoss()\n",
        "    lr = 0.001\n",
        "    optimizer = torch.optim.Adam(fc_net.parameters(), lr=3e-4)\n",
        "\n",
        "    n_epochs = 10\n",
        "    loss_history = []\n",
        "    for epoch in range(n_epochs):\n",
        "        epoch_loss = 0\n",
        "        for images, labels in trainloader:\n",
        "            optimizer.zero_grad()\n",
        "            outputs = fc_net(images)\n",
        "            loss = loss_function(outputs, labels)\n",
        "            loss.backward()\n",
        "            optimizer.step()\n",
        "            epoch_loss += loss.item()\n",
        "        loss_history.append(epoch_loss / len(trainloader))\n",
        "        print(f\"Epoch={epoch+1} loss={loss_history[epoch]:.4f}\")\n",
        "\n",
        "    accuracy = get_accuracy(fc_net, testloader)\n",
        "    print(f\"Accuracy for {activation_func.__class__.__name__}: {accuracy:.4f}\")\n",
        "\n",
        "activation_functions = [nn.Sigmoid(), nn.Tanh(), nn.GELU(approximate='none')]\n",
        "\n",
        "for activation_func in activation_functions:\n",
        "    train_and_evaluate_model(activation_func)"
      ]
    },
    {
      "cell_type": "markdown",
      "metadata": {
        "id": "aG2Oyxy2egVV"
      },
      "source": [
        "С использованием какой функции активации удалось досчить наибольшей `accuracy`?"
      ]
    },
    {
      "cell_type": "markdown",
      "metadata": {
        "id": "-9i5xVTwanFN"
      },
      "source": [
        "Похоже, что с GELU лучше всего получается."
      ]
    },
    {
      "cell_type": "markdown",
      "source": [
        "<font size=3 color='purple'><b>3/3 Вот тут график очень хорошо бы смотрелся. Почитай теорию в гугле, чем отличаются активации, проверь, что ты понимаешь, что за ними стоит</font>"
      ],
      "metadata": {
        "id": "Okncg6AnYolQ"
      }
    },
    {
      "cell_type": "markdown",
      "metadata": {
        "id": "20Ls3Bfsifqd"
      },
      "source": [
        "### Задание 6. Другие оптимизаторы\n",
        "\n",
        "**4** балла\n",
        "\n",
        "Исследуйте влияние оптимизаторов на скорость обучения и точность предсказаний модели.\n",
        "\n",
        "Попробуйте следующие:\n",
        "\n",
        "* [Adam](https://pytorch.org/docs/stable/generated/torch.optim.Adam.html#torch.optim.Adam)\n",
        "* [RMSprop](https://pytorch.org/docs/stable/generated/torch.optim.RMSprop.html#torch.optim.RMSprop)\n",
        "* [Adagrad](https://pytorch.org/docs/stable/generated/torch.optim.Adagrad.html#torch.optim.Adagrad)\n",
        "\n",
        "Вам нужно снова обучить 3 модели и сравнить их перформанс (функцию активации используйте ту, которая показала себя лучше всего)."
      ]
    },
    {
      "cell_type": "code",
      "execution_count": null,
      "metadata": {
        "colab": {
          "base_uri": "https://localhost:8080/"
        },
        "id": "rzL2LdA-ifJh",
        "outputId": "0a6a2626-474a-424e-acc9-b4dd710bc4e9"
      },
      "outputs": [
        {
          "name": "stdout",
          "output_type": "stream",
          "text": [
            "Epoch=1 loss=0.4313\n",
            "Epoch=2 loss=0.1695\n",
            "Epoch=3 loss=0.1061\n",
            "Epoch=4 loss=0.0715\n",
            "Epoch=5 loss=0.0466\n",
            "Epoch=6 loss=0.0306\n",
            "Epoch=7 loss=0.0204\n",
            "Epoch=8 loss=0.0149\n",
            "Epoch=9 loss=0.0126\n",
            "Epoch=10 loss=0.0152\n",
            "Accuracy with Adam: 0.8995\n",
            "Epoch=1 loss=0.3484\n",
            "Epoch=2 loss=0.1400\n",
            "Epoch=3 loss=0.0888\n",
            "Epoch=4 loss=0.0570\n",
            "Epoch=5 loss=0.0379\n",
            "Epoch=6 loss=0.0298\n",
            "Epoch=7 loss=0.0207\n",
            "Epoch=8 loss=0.0184\n",
            "Epoch=9 loss=0.0168\n",
            "Epoch=10 loss=0.0113\n",
            "Accuracy with RMSprop: 0.9051\n",
            "Epoch=1 loss=0.6925\n",
            "Epoch=2 loss=0.4397\n",
            "Epoch=3 loss=0.3838\n",
            "Epoch=4 loss=0.3510\n",
            "Epoch=5 loss=0.3276\n",
            "Epoch=6 loss=0.3099\n",
            "Epoch=7 loss=0.2961\n",
            "Epoch=8 loss=0.2840\n",
            "Epoch=9 loss=0.2734\n",
            "Epoch=10 loss=0.2647\n",
            "Accuracy with Adagrad: 0.8181\n"
          ]
        }
      ],
      "source": [
        "def train_and_evaluate_with_optimizer(optimizer):\n",
        "\n",
        "    fc_net = FCNet()\n",
        "    fc_net.activation = nn.GELU()\n",
        "\n",
        "    loss_function = nn.CrossEntropyLoss()\n",
        "    lr = 0.001\n",
        "\n",
        "    optimizer = optimizer(fc_net.parameters(), lr=lr)\n",
        "\n",
        "    n_epochs = 10\n",
        "    loss_history = []\n",
        "    for epoch in range(n_epochs):\n",
        "        epoch_loss = 0\n",
        "        for images, labels in trainloader:\n",
        "            optimizer.zero_grad()\n",
        "            outputs = fc_net(images)\n",
        "            loss = loss_function(outputs, labels)\n",
        "            loss.backward()\n",
        "            optimizer.step()\n",
        "            epoch_loss += loss.item()\n",
        "        loss_history.append(epoch_loss / len(trainloader))\n",
        "        print(f\"Epoch={epoch+1} loss={loss_history[epoch]:.4f}\")\n",
        "\n",
        "    accuracy = get_accuracy(fc_net, testloader)\n",
        "    print(f\"Accuracy with {optimizer.__class__.__name__}: {accuracy:.4f}\")\n",
        "\n",
        "optimizers = [torch.optim.Adam, torch.optim.RMSprop, torch.optim.Adagrad]\n",
        "\n",
        "for optimizer in optimizers:\n",
        "    train_and_evaluate_with_optimizer(optimizer)"
      ]
    },
    {
      "cell_type": "markdown",
      "metadata": {
        "id": "rvHhOV-ddgbh"
      },
      "source": [
        "Получается, что с Adam accuracy выше всего"
      ]
    },
    {
      "cell_type": "markdown",
      "source": [
        "<font size=3 color='purple'><b>4/4 Тут он не сильно отличается от RMSprop, но в целом да он мощнее, так как сочетает свойства двух других</font>"
      ],
      "metadata": {
        "id": "_sqY7-iPYx4l"
      }
    },
    {
      "cell_type": "markdown",
      "metadata": {
        "id": "eHA48PsperxS"
      },
      "source": [
        "### Задание 7. Реализация ReLU\n",
        "\n",
        "**4** балла\n",
        "\n",
        "Самостоятельно реализуйте функцию активации ReLU.\n",
        "Замените в уже обученной модели функцию активации на вашу. Убедитесь что ничего не изменилась."
      ]
    },
    {
      "cell_type": "code",
      "execution_count": null,
      "metadata": {
        "id": "63uTkUp-a2xr"
      },
      "outputs": [],
      "source": [
        "class CustomReLU(nn.Module):\n",
        "    def __init__(self):\n",
        "        super().__init__()\n",
        "\n",
        "    def forward(self, x):\n",
        "        # YOUR CODE HERE\n",
        "        # если элемент x < 0, то 0, если >= 0, то x\n",
        "\n",
        "        return torch.max(torch.tensor(0.0), x)"
      ]
    },
    {
      "cell_type": "markdown",
      "source": [
        "<font size=3 color='purple'><b>Или `x[x < 0] = 0`</font>"
      ],
      "metadata": {
        "id": "-nFCWtjVY6CN"
      }
    },
    {
      "cell_type": "markdown",
      "metadata": {
        "id": "xsKzxa33fhbN"
      },
      "source": [
        "Заново обучите модель и проверьте правильность реализации `CustomReLU`."
      ]
    },
    {
      "cell_type": "code",
      "execution_count": null,
      "metadata": {
        "id": "ePP55RBeecYh"
      },
      "outputs": [],
      "source": [
        "def train_and_evaluate_with_optimizer(optimizer):\n",
        "    fc_net_custom_relu = FCNet()\n",
        "    fc_net_custom_relu.activation = CustomReLU()\n",
        "    loss_function = nn.CrossEntropyLoss()\n",
        "    lr = 0.001\n",
        "    optimizer_custom_relu = optimizer(fc_net_custom_relu.parameters(), lr=3e-4)\n",
        "\n",
        "    n_epochs = 10\n",
        "    loss_history_custom_relu = []\n",
        "\n",
        "    for epoch in range(n_epochs):\n",
        "        epoch_loss = 0\n",
        "        for images, labels in trainloader:\n",
        "            optimizer_custom_relu.zero_grad()\n",
        "            outputs = fc_net_custom_relu(images)\n",
        "            loss = loss_function(outputs, labels)\n",
        "            loss.backward()\n",
        "            optimizer_custom_relu.step()\n",
        "\n",
        "            epoch_loss += loss.item()\n",
        "\n",
        "        loss_history_custom_relu.append(epoch_loss / len(trainloader))\n",
        "        print(f\"Epoch={epoch + 1} loss={loss_history_custom_relu[epoch]:.4f}\")\n",
        "\n",
        "    accuracy_custom_relu = get_accuracy(fc_net_custom_relu, testloader)\n",
        "    print(\"Accuracy with CustomReLU:\", accuracy_custom_relu)\n"
      ]
    },
    {
      "cell_type": "code",
      "execution_count": null,
      "metadata": {
        "colab": {
          "base_uri": "https://localhost:8080/"
        },
        "id": "rGOgv6NqgUkj",
        "outputId": "88044293-91b5-4aec-8f36-5ab6041c1957"
      },
      "outputs": [
        {
          "name": "stdout",
          "output_type": "stream",
          "text": [
            "Epoch=1 loss=0.6839\n",
            "Epoch=2 loss=0.3001\n",
            "Epoch=3 loss=0.2205\n",
            "Epoch=4 loss=0.1702\n",
            "Epoch=5 loss=0.1358\n",
            "Epoch=6 loss=0.1101\n",
            "Epoch=7 loss=0.0903\n",
            "Epoch=8 loss=0.0733\n",
            "Epoch=9 loss=0.0604\n",
            "Epoch=10 loss=0.0487\n",
            "Accuracy with CustomReLU: 0.8991\n"
          ]
        }
      ],
      "source": [
        "train_and_evaluate_with_optimizer(torch.optim.Adam)"
      ]
    },
    {
      "cell_type": "markdown",
      "metadata": {
        "id": "J-0DgbgqktbX"
      },
      "source": [
        "Получилось ровно также, как в нормализованном nn.ReLU, и повыше, чем у просто nn.ReLU"
      ]
    },
    {
      "cell_type": "markdown",
      "source": [
        "<font size=3 color='purple'><b>4/4 Вообще предполагалось, что вы обучаете модель, считаете точность на тесте, меняете активацию в обученной модели (для этого активация должна быть параметром класса), считаете точность еще раз и вот у вас два однаковых числа. Ну ок. (Если что ты не активацию нормализуешь)</font>"
      ],
      "metadata": {
        "id": "edx8KgcVZEKJ"
      }
    },
    {
      "cell_type": "markdown",
      "metadata": {
        "id": "vWBG1mMwgN17"
      },
      "source": [
        "### Задание 8. Генерация картинок\n",
        "\n",
        "**3** балла\n",
        "\n",
        "Придумайте 3 предложения и сгенерируйте при помощи них 3 картинки, используя телеграм бота [ruDALLE](https://t.me/sber_rudalle_xl_bot). Прикрепите сюда ваши картины."
      ]
    },
    {
      "cell_type": "markdown",
      "metadata": {
        "id": "1IM65hpoX9lZ"
      },
      "source": [
        "Использовала модель Kandinsky 3.0"
      ]
    },
    {
      "cell_type": "markdown",
      "metadata": {
        "id": "rudJV2GEqiZ6"
      },
      "source": [
        "Смысл жизни в стиле khokhloma (все еще секрет, получается)"
      ]
    },
    {
      "cell_type": "markdown",
      "metadata": {
        "id": "bnpRoA43sCpK"
      },
      "source": [
        "![Смысл жизни.jpg](attachment:510dee69-4788-4966-aec6-47fb9414af9b.jpg)"
      ]
    },
    {
      "cell_type": "markdown",
      "metadata": {
        "id": "FtD3OrsusCwt"
      },
      "source": [
        "The Answer to the Ultimate Question of Life, the Universe, and Everything - oil_painting"
      ]
    },
    {
      "cell_type": "markdown",
      "metadata": {
        "id": "JygxF6zcX9la"
      },
      "source": [
        "![The Answer to the Ultimate Question of Life, the Universe, and Everything_Kandinsky 3.0.jpg](attachment:6d2089d5-0777-4ec4-8ef7-86691410f4da.jpg)"
      ]
    },
    {
      "cell_type": "markdown",
      "metadata": {
        "id": "7TvYqxqhX9la"
      },
      "source": [
        "Мария Узун не сохранила ноутбук с предсказаниями по игре в доту. Картина маслом"
      ]
    },
    {
      "cell_type": "markdown",
      "metadata": {
        "id": "cjDbOTBRX9la"
      },
      "source": [
        "![Мария Узун не сохранила ноутбук с предсказаниями по игре в доту_Kandinsky 3.0.jpg](attachment:2db2ce96-90f7-4552-a905-f555a314f7d1.jpg)"
      ]
    },
    {
      "cell_type": "markdown",
      "source": [
        "<font size=3 color='purple'><b>Если картинки просто копипастить, то они потом не отображаются. Надо их вставлять как ссылки на папки с файлами (и файлы соответственно тоже прикреплять) 1/3</font>"
      ],
      "metadata": {
        "id": "iKK_iNFYZZ4v"
      }
    },
    {
      "cell_type": "code",
      "source": [],
      "metadata": {
        "id": "zREBWS30ZlJh"
      },
      "execution_count": null,
      "outputs": []
    }
  ],
  "metadata": {
    "colab": {
      "provenance": []
    },
    "kernelspec": {
      "display_name": "Python 3 (ipykernel)",
      "language": "python",
      "name": "python3"
    },
    "language_info": {
      "codemirror_mode": {
        "name": "ipython",
        "version": 3
      },
      "file_extension": ".py",
      "mimetype": "text/x-python",
      "name": "python",
      "nbconvert_exporter": "python",
      "pygments_lexer": "ipython3",
      "version": "3.8.18"
    }
  },
  "nbformat": 4,
  "nbformat_minor": 0
}